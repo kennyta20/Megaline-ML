{
 "cells": [
  {
   "cell_type": "markdown",
   "metadata": {},
   "source": [
    "# Introducción"
   ]
  },
  {
   "cell_type": "markdown",
   "metadata": {},
   "source": [
    "En un mercado de telecomunicaciones altamente competitivo, la retención de clientes y la optimización de sus planes de suscripción son elementos clave para garantizar la sostenibilidad y el crecimiento de las empresas. Megaline, una compañía líder en servicios móviles, enfrenta el desafío de modernizar a sus clientes que todavía utilizan planes heredados, menos eficientes y alineados con sus objetivos comerciales actuales. Para abordar este problema, Megaline busca implementar un modelo basado en datos que analice el comportamiento de los clientes y recomiende, con precisión, uno de los nuevos planes disponibles: Smart o Ultra."
   ]
  },
  {
   "cell_type": "code",
   "execution_count": 1,
   "metadata": {},
   "outputs": [],
   "source": [
    "import pandas as pd\n",
    "from sklearn.model_selection import train_test_split\n",
    "from sklearn.tree import DecisionTreeClassifier\n",
    "from sklearn.ensemble import RandomForestClassifier\n",
    "from sklearn.linear_model import LogisticRegression\n",
    "from sklearn.metrics import accuracy_score\n",
    "from sklearn.model_selection import GridSearchCV\n",
    "from sklearn.dummy import DummyClassifier"
   ]
  },
  {
   "cell_type": "code",
   "execution_count": 3,
   "metadata": {},
   "outputs": [
    {
     "name": "stdout",
     "output_type": "stream",
     "text": [
      "<class 'pandas.core.frame.DataFrame'>\n",
      "RangeIndex: 3214 entries, 0 to 3213\n",
      "Data columns (total 5 columns):\n",
      " #   Column    Non-Null Count  Dtype  \n",
      "---  ------    --------------  -----  \n",
      " 0   calls     3214 non-null   float64\n",
      " 1   minutes   3214 non-null   float64\n",
      " 2   messages  3214 non-null   float64\n",
      " 3   mb_used   3214 non-null   float64\n",
      " 4   is_ultra  3214 non-null   int64  \n",
      "dtypes: float64(4), int64(1)\n",
      "memory usage: 125.7 KB\n",
      "None\n"
     ]
    }
   ],
   "source": [
    "df=pd.read_csv('/datasets/users_behavior.csv')\n",
    "print(df.info())"
   ]
  },
  {
   "cell_type": "code",
   "execution_count": 4,
   "metadata": {},
   "outputs": [
    {
     "name": "stdout",
     "output_type": "stream",
     "text": [
      "   calls  minutes  messages   mb_used  is_ultra\n",
      "0   40.0   311.90      83.0  19915.42         0\n",
      "1   85.0   516.75      56.0  22696.96         0\n",
      "2   77.0   467.66      86.0  21060.45         0\n",
      "3  106.0   745.53      81.0   8437.39         1\n",
      "4   66.0   418.74       1.0  14502.75         0\n"
     ]
    }
   ],
   "source": [
    "print(df.head())"
   ]
  },
  {
   "cell_type": "markdown",
   "metadata": {},
   "source": [
    "El conjunto de datos cuenta con 3214 entradas y 5 columnas: calls, minutes, messages, mb_used, y is_ultra. Todas las columnas tienen 3214 valores no nulos, lo que significa que no hay valores faltantes en los datos. Las primeras cuatro columnas (calls, minutes, messages, y mb_used) son de tipo float64, mientras que la columna is_ultra, que parece ser la variable objetivo (0 o 1), es de tipo int64."
   ]
  },
  {
   "cell_type": "markdown",
   "metadata": {},
   "source": [
    "# Características (x) - Variable Objetivo (y) "
   ]
  },
  {
   "cell_type": "code",
   "execution_count": 19,
   "metadata": {},
   "outputs": [],
   "source": [
    "x = df.drop(columns=['is_ultra'])\n",
    "y = df['is_ultra']"
   ]
  },
  {
   "cell_type": "markdown",
   "metadata": {},
   "source": [
    "# Datos fuente en un conjunto de entrenamiento, validación y de prueba."
   ]
  },
  {
   "cell_type": "code",
   "execution_count": 20,
   "metadata": {},
   "outputs": [],
   "source": [
    "x_train, x_temp, y_train, y_temp = train_test_split(x, y, test_size=0.4, random_state=42)\n",
    "\n",
    "x_valid, x_test, y_valid, y_test = train_test_split(x_temp, y_temp, test_size=0.5, random_state=42)"
   ]
  },
  {
   "cell_type": "markdown",
   "metadata": {},
   "source": [
    "#  Calidad de diferentes modelos"
   ]
  },
  {
   "cell_type": "code",
   "execution_count": 21,
   "metadata": {},
   "outputs": [
    {
     "name": "stdout",
     "output_type": "stream",
     "text": [
      "Árbol de Decisión - Mejor exactitud: 0.7916\n",
      "Bosque Aleatorio - Mejor exactitud: 0.8025\n",
      "Regresión Logística - Mejor exactitud:0.7185\n"
     ]
    }
   ],
   "source": [
    "param_tree = {\n",
    "    'max_depth':[3, 5, 10, None],\n",
    "    'min_samples_split': [2, 5, 10]\n",
    "} \n",
    "\n",
    "param_forest = {\n",
    "    'n_estimators':[50, 100, 200],\n",
    "    'max_features': ['auto', 'sqrt', 'log2']\n",
    "}\n",
    "\n",
    "param_logistic = {\n",
    "    'C': [0.01, 0.1, 1, 10, 100],\n",
    "    'solver':['liblinear', 'lbfgs'],\n",
    "    'max_iter': [500, 1000]\n",
    "}\n",
    "\n",
    "grid_tree = GridSearchCV(DecisionTreeClassifier(random_state = 42), param_tree, cv=5)\n",
    "grid_forest = GridSearchCV(RandomForestClassifier(random_state=42), param_forest, cv=5)\n",
    "grid_logistic = GridSearchCV(LogisticRegression(random_state=42), param_logistic, cv=5)\n",
    "\n",
    "grid_tree.fit(x_train, y_train)\n",
    "grid_forest.fit(x_train, y_train)\n",
    "grid_logistic.fit(x_train, y_train)\n",
    "\n",
    "valid_acc_tree = accuracy_score(y_valid, grid_tree.best_estimator_.predict(x_valid))\n",
    "valid_acc_forest = accuracy_score(y_valid, grid_forest.best_estimator_.predict(x_valid))\n",
    "valid_acc_logistic = accuracy_score(y_valid, grid_logistic.best_estimator_.predict(x_valid))\n",
    "\n",
    "print(f'Árbol de Decisión - Mejor exactitud: {valid_acc_tree:.4f}')\n",
    "print(f'Bosque Aleatorio - Mejor exactitud: {valid_acc_forest:.4f}')\n",
    "print(f'Regresión Logística - Mejor exactitud:{valid_acc_logistic:.4f}')"
   ]
  },
  {
   "cell_type": "markdown",
   "metadata": {},
   "source": [
    "Los resultados del estudio muestran que, entre los tres modelos probados (Árbol de Decisión, Bosque Aleatorio y Regresión Logística), el Bosque Aleatorio ofrece la mejor exactitud con un valor de 0.8025. Esto significa que es el modelo más eficaz para predecir correctamente el plan adecuado para los clientes, superando el umbral de exactitud de 0.75 solicitado.\n",
    "\n",
    "Árbol de Decisión: Alcanzó una exactitud de 0.7916, lo cual es competitivo pero ligeramente inferior al Bosque Aleatorio.\n",
    "Bosque Aleatorio: Obtuvo la mayor exactitud con 0.8025, mostrando que agregar múltiples árboles mejora las predicciones y reduce el sobreajuste.\n",
    "Regresión Logística: Alcanzó una exactitud de 0.7185, la más baja de los tres modelos, lo cual sugiere que este enfoque es menos eficaz en este contexto."
   ]
  },
  {
   "cell_type": "markdown",
   "metadata": {},
   "source": [
    "# Calidad del modelo usando el conjunto de prueba"
   ]
  },
  {
   "cell_type": "code",
   "execution_count": 22,
   "metadata": {},
   "outputs": [
    {
     "name": "stdout",
     "output_type": "stream",
     "text": [
      "Bosque Aleatorio - Exactitud en el conjunto de prueba: 0.81\n"
     ]
    }
   ],
   "source": [
    "test_acc_forest = accuracy_score(y_test, grid_forest.best_estimator_.predict(x_test))\n",
    "\n",
    "print(f'Bosque Aleatorio - Exactitud en el conjunto de prueba: {test_acc_forest:.2f}')"
   ]
  },
  {
   "cell_type": "markdown",
   "metadata": {},
   "source": [
    "Bosque Aleatorio fue el mejor modelo con una exactitud de 0.8025 en la validación y 0.81 en el conjunto de prueba. Este modelo demuestra que es capaz de generalizar bien sobre datos que no ha visto antes, superando el umbral de exactitud de 0.75."
   ]
  },
  {
   "cell_type": "markdown",
   "metadata": {},
   "source": [
    "#  Prueba de cordura al modelo"
   ]
  },
  {
   "cell_type": "markdown",
   "metadata": {},
   "source": [
    "Modelo trivial (predicción de la clase mayoritaria)"
   ]
  },
  {
   "cell_type": "code",
   "execution_count": 23,
   "metadata": {},
   "outputs": [
    {
     "name": "stdout",
     "output_type": "stream",
     "text": [
      "Modelo trivial (clase más frecuente) - Exactitud: 0.70\n"
     ]
    }
   ],
   "source": [
    "dummy_majority = DummyClassifier(strategy='most_frequent')\n",
    "dummy_majority.fit(x_train, y_train)\n",
    "\n",
    "dummy_majority_acc = accuracy_score(y_test, dummy_majority.predict(x_test))\n",
    "print(f'Modelo trivial (clase más frecuente) - Exactitud: {dummy_majority_acc:.2f}')"
   ]
  },
  {
   "cell_type": "markdown",
   "metadata": {},
   "source": [
    "Modelo aleatorio"
   ]
  },
  {
   "cell_type": "code",
   "execution_count": 24,
   "metadata": {},
   "outputs": [
    {
     "name": "stdout",
     "output_type": "stream",
     "text": [
      "Modelo Aleatorio - Exactitud: 0.51\n"
     ]
    }
   ],
   "source": [
    "dummy_random = DummyClassifier(strategy='uniform')\n",
    "dummy_random.fit(x_train, y_train)\n",
    "\n",
    "dummy_random_acc = accuracy_score(y_test,dummy_random.predict(x_test))\n",
    "print(f'Modelo Aleatorio - Exactitud: {dummy_random_acc:.2f}')"
   ]
  },
  {
   "cell_type": "markdown",
   "metadata": {},
   "source": [
    "La prueba de cordura revela que el modelo de Bosque Aleatorio está funcionando de manera efectiva, superando tanto al modelo aleatorio como al trivial. Esto sugiere que el modelo ha aprendido patrones significativos a partir de los datos y es capaz de hacer predicciones mucho más precisas que los enfoques triviales."
   ]
  },
  {
   "cell_type": "markdown",
   "metadata": {},
   "source": [
    "# Conclusión"
   ]
  },
  {
   "cell_type": "markdown",
   "metadata": {},
   "source": [
    "En este proyecto, se desarrolló un modelo de clasificación para la compañía Megaline con el fin de recomendar uno de sus planes nuevos: Smart o Ultra. Se probaron varios algoritmos, como Árbol de Decisión, Bosque Aleatorio y Regresión Logística, con el objetivo de alcanzar una exactitud mínima de 0.75. Tras segmentar los datos y ajustar los hiperparámetros, el Bosque Aleatorio resultó ser el modelo más eficaz, alcanzando una exactitud de 0.81 en el conjunto de prueba, superando las expectativas iniciales.\n",
    "\n",
    "Además, se realizaron pruebas de cordura utilizando un modelo trivial (predicción de la clase mayoritaria) y un modelo aleatorio, demostrando que el Bosque Aleatorio supera significativamente estos enfoques simples. Este resultado muestra que el modelo es capaz de identificar patrones reales en los datos de comportamiento de los usuarios, proporcionando una herramienta confiable para que Megaline optimice la recomendación de sus planes de suscripción, lo que puede traducirse en una mejor retención de clientes y una mayor satisfacción del servicio."
   ]
  }
 ],
 "metadata": {
  "ExecuteTimeLog": [
   {
    "duration": 9,
    "start_time": "2024-10-19T07:39:28.107Z"
   },
   {
    "duration": 961,
    "start_time": "2024-10-19T07:39:32.508Z"
   },
   {
    "duration": 32,
    "start_time": "2024-10-19T07:39:55.325Z"
   },
   {
    "duration": 377,
    "start_time": "2024-10-19T07:40:37.610Z"
   },
   {
    "duration": 16,
    "start_time": "2024-10-19T07:41:57.941Z"
   },
   {
    "duration": 4,
    "start_time": "2024-10-19T07:46:15.620Z"
   },
   {
    "duration": 157,
    "start_time": "2024-10-19T08:40:54.567Z"
   },
   {
    "duration": 787,
    "start_time": "2024-10-19T08:40:59.384Z"
   },
   {
    "duration": 22,
    "start_time": "2024-10-19T08:41:00.370Z"
   },
   {
    "duration": 4,
    "start_time": "2024-10-19T08:41:01.992Z"
   },
   {
    "duration": 6,
    "start_time": "2024-10-19T08:41:03.131Z"
   },
   {
    "duration": 6,
    "start_time": "2024-10-19T08:41:07.983Z"
   },
   {
    "duration": 8,
    "start_time": "2024-10-19T09:09:31.902Z"
   },
   {
    "duration": 4,
    "start_time": "2024-10-19T09:09:36.849Z"
   },
   {
    "duration": 10,
    "start_time": "2024-10-19T09:09:37.367Z"
   },
   {
    "duration": 4,
    "start_time": "2024-10-19T09:09:38.200Z"
   },
   {
    "duration": 8,
    "start_time": "2024-10-19T09:09:38.868Z"
   },
   {
    "duration": 5,
    "start_time": "2024-10-19T09:09:39.529Z"
   },
   {
    "duration": 5,
    "start_time": "2024-10-19T09:10:42.568Z"
   },
   {
    "duration": 5,
    "start_time": "2024-10-19T09:11:32.274Z"
   },
   {
    "duration": 5,
    "start_time": "2024-10-19T09:11:42.085Z"
   },
   {
    "duration": 7,
    "start_time": "2024-10-19T09:12:10.426Z"
   },
   {
    "duration": 5,
    "start_time": "2024-10-19T09:12:45.086Z"
   },
   {
    "duration": 3,
    "start_time": "2024-10-19T09:12:49.135Z"
   },
   {
    "duration": 8,
    "start_time": "2024-10-19T09:12:49.306Z"
   },
   {
    "duration": 3,
    "start_time": "2024-10-19T09:12:49.667Z"
   },
   {
    "duration": 9,
    "start_time": "2024-10-19T09:12:50.032Z"
   },
   {
    "duration": 7,
    "start_time": "2024-10-19T09:12:50.399Z"
   },
   {
    "duration": 82,
    "start_time": "2024-10-19T09:13:39.835Z"
   },
   {
    "duration": 4,
    "start_time": "2024-10-19T09:13:59.616Z"
   },
   {
    "duration": 9,
    "start_time": "2024-10-19T09:13:59.807Z"
   },
   {
    "duration": 3,
    "start_time": "2024-10-19T09:14:00.200Z"
   },
   {
    "duration": 8,
    "start_time": "2024-10-19T09:14:00.550Z"
   },
   {
    "duration": 20,
    "start_time": "2024-10-19T09:14:00.898Z"
   },
   {
    "duration": 3,
    "start_time": "2024-10-19T09:14:16.665Z"
   },
   {
    "duration": 10,
    "start_time": "2024-10-19T09:14:17.187Z"
   },
   {
    "duration": 4,
    "start_time": "2024-10-19T09:14:17.634Z"
   },
   {
    "duration": 8,
    "start_time": "2024-10-19T09:14:18.051Z"
   },
   {
    "duration": 20,
    "start_time": "2024-10-19T09:14:18.434Z"
   },
   {
    "duration": 20,
    "start_time": "2024-10-19T09:14:30.788Z"
   },
   {
    "duration": 5,
    "start_time": "2024-10-19T09:14:42.258Z"
   },
   {
    "duration": 3,
    "start_time": "2024-10-19T09:14:46.151Z"
   },
   {
    "duration": 7,
    "start_time": "2024-10-19T09:14:46.325Z"
   },
   {
    "duration": 5,
    "start_time": "2024-10-19T09:14:46.780Z"
   },
   {
    "duration": 9,
    "start_time": "2024-10-19T09:14:47.168Z"
   },
   {
    "duration": 4,
    "start_time": "2024-10-19T09:14:47.534Z"
   },
   {
    "duration": 169,
    "start_time": "2024-10-20T00:29:54.908Z"
   },
   {
    "duration": 754,
    "start_time": "2024-10-20T00:29:58.991Z"
   },
   {
    "duration": 17,
    "start_time": "2024-10-20T00:29:59.748Z"
   },
   {
    "duration": 4,
    "start_time": "2024-10-20T00:29:59.767Z"
   },
   {
    "duration": 7,
    "start_time": "2024-10-20T00:29:59.876Z"
   },
   {
    "duration": 769,
    "start_time": "2024-10-20T00:30:00.310Z"
   },
   {
    "duration": 3,
    "start_time": "2024-10-20T00:30:56.144Z"
   },
   {
    "duration": 7,
    "start_time": "2024-10-20T00:30:56.656Z"
   },
   {
    "duration": 5,
    "start_time": "2024-10-20T00:30:57.727Z"
   },
   {
    "duration": 5,
    "start_time": "2024-10-20T00:30:58.478Z"
   },
   {
    "duration": 461,
    "start_time": "2024-10-20T00:30:59.351Z"
   },
   {
    "duration": 3,
    "start_time": "2024-10-20T00:31:40.528Z"
   },
   {
    "duration": 8,
    "start_time": "2024-10-20T00:31:40.912Z"
   },
   {
    "duration": 3,
    "start_time": "2024-10-20T00:31:41.593Z"
   },
   {
    "duration": 7,
    "start_time": "2024-10-20T00:31:42.409Z"
   },
   {
    "duration": 1,
    "start_time": "2024-10-20T00:31:53.454Z"
   },
   {
    "duration": 0,
    "start_time": "2024-10-20T00:31:53.455Z"
   },
   {
    "duration": 0,
    "start_time": "2024-10-20T00:31:53.457Z"
   },
   {
    "duration": 0,
    "start_time": "2024-10-20T00:31:53.458Z"
   },
   {
    "duration": 0,
    "start_time": "2024-10-20T00:31:53.459Z"
   },
   {
    "duration": 4,
    "start_time": "2024-10-20T00:39:53.628Z"
   },
   {
    "duration": 8,
    "start_time": "2024-10-20T00:39:53.869Z"
   },
   {
    "duration": 4,
    "start_time": "2024-10-20T00:39:54.244Z"
   },
   {
    "duration": 6,
    "start_time": "2024-10-20T00:39:54.610Z"
   },
   {
    "duration": 0,
    "start_time": "2024-10-20T00:40:05.040Z"
   },
   {
    "duration": 3,
    "start_time": "2024-10-20T00:46:14.396Z"
   },
   {
    "duration": 8,
    "start_time": "2024-10-20T00:46:14.928Z"
   },
   {
    "duration": 4,
    "start_time": "2024-10-20T00:46:15.829Z"
   },
   {
    "duration": 5,
    "start_time": "2024-10-20T00:46:16.749Z"
   },
   {
    "duration": 10073,
    "start_time": "2024-10-20T00:46:17.730Z"
   },
   {
    "duration": 3,
    "start_time": "2024-10-20T00:47:02.113Z"
   },
   {
    "duration": 7,
    "start_time": "2024-10-20T00:47:02.587Z"
   },
   {
    "duration": 3,
    "start_time": "2024-10-20T00:47:03.382Z"
   },
   {
    "duration": 6,
    "start_time": "2024-10-20T00:47:04.088Z"
   },
   {
    "duration": 10026,
    "start_time": "2024-10-20T00:47:04.951Z"
   },
   {
    "duration": 10481,
    "start_time": "2024-10-20T00:49:03.932Z"
   },
   {
    "duration": 15266,
    "start_time": "2024-10-20T00:50:23.881Z"
   },
   {
    "duration": 16363,
    "start_time": "2024-10-20T00:51:28.742Z"
   },
   {
    "duration": 15613,
    "start_time": "2024-10-20T00:52:39.543Z"
   },
   {
    "duration": 161,
    "start_time": "2024-10-20T01:49:48.613Z"
   },
   {
    "duration": 815,
    "start_time": "2024-10-20T01:50:02.048Z"
   },
   {
    "duration": 15,
    "start_time": "2024-10-20T01:50:02.865Z"
   },
   {
    "duration": 3,
    "start_time": "2024-10-20T01:50:02.882Z"
   },
   {
    "duration": 6,
    "start_time": "2024-10-20T01:50:02.898Z"
   },
   {
    "duration": 15604,
    "start_time": "2024-10-20T01:50:03.283Z"
   },
   {
    "duration": 26,
    "start_time": "2024-10-20T01:50:18.889Z"
   },
   {
    "duration": 834,
    "start_time": "2024-10-20T02:15:51.848Z"
   },
   {
    "duration": 14,
    "start_time": "2024-10-20T02:15:52.684Z"
   },
   {
    "duration": 3,
    "start_time": "2024-10-20T02:15:53.758Z"
   },
   {
    "duration": 7,
    "start_time": "2024-10-20T02:15:54.473Z"
   },
   {
    "duration": 15623,
    "start_time": "2024-10-20T02:15:55.282Z"
   },
   {
    "duration": 34,
    "start_time": "2024-10-20T02:16:10.907Z"
   },
   {
    "duration": 26,
    "start_time": "2024-10-20T02:22:32.990Z"
   },
   {
    "duration": 219,
    "start_time": "2024-10-20T02:22:34.302Z"
   },
   {
    "duration": 14,
    "start_time": "2024-10-20T02:22:39.913Z"
   },
   {
    "duration": 3,
    "start_time": "2024-10-20T02:22:51.422Z"
   },
   {
    "duration": 9,
    "start_time": "2024-10-20T02:22:51.650Z"
   },
   {
    "duration": 3,
    "start_time": "2024-10-20T02:22:52.084Z"
   },
   {
    "duration": 6,
    "start_time": "2024-10-20T02:22:52.492Z"
   },
   {
    "duration": 15538,
    "start_time": "2024-10-20T02:22:52.843Z"
   },
   {
    "duration": 25,
    "start_time": "2024-10-20T02:23:08.383Z"
   },
   {
    "duration": 29,
    "start_time": "2024-10-20T02:23:08.410Z"
   },
   {
    "duration": 4,
    "start_time": "2024-10-20T02:24:47.142Z"
   },
   {
    "duration": 8,
    "start_time": "2024-10-20T02:24:47.491Z"
   },
   {
    "duration": 4,
    "start_time": "2024-10-20T02:24:48.175Z"
   },
   {
    "duration": 5,
    "start_time": "2024-10-20T02:24:48.678Z"
   },
   {
    "duration": 15509,
    "start_time": "2024-10-20T02:24:49.159Z"
   },
   {
    "duration": 26,
    "start_time": "2024-10-20T02:25:04.670Z"
   },
   {
    "duration": 5,
    "start_time": "2024-10-20T02:25:04.698Z"
   },
   {
    "duration": 5,
    "start_time": "2024-10-20T02:29:18.875Z"
   },
   {
    "duration": 155,
    "start_time": "2024-10-21T00:20:49.426Z"
   },
   {
    "duration": 769,
    "start_time": "2024-10-21T00:20:53.229Z"
   },
   {
    "duration": 17,
    "start_time": "2024-10-21T00:20:54.388Z"
   },
   {
    "duration": 7,
    "start_time": "2024-10-21T00:21:28.488Z"
   },
   {
    "duration": 824,
    "start_time": "2024-12-14T19:49:03.929Z"
   }
  ],
  "kernelspec": {
   "display_name": "Python 3 (ipykernel)",
   "language": "python",
   "name": "python3"
  },
  "language_info": {
   "codemirror_mode": {
    "name": "ipython",
    "version": 3
   },
   "file_extension": ".py",
   "mimetype": "text/x-python",
   "name": "python",
   "nbconvert_exporter": "python",
   "pygments_lexer": "ipython3",
   "version": "3.9.19"
  },
  "toc": {
   "base_numbering": 1,
   "nav_menu": {},
   "number_sections": true,
   "sideBar": true,
   "skip_h1_title": true,
   "title_cell": "Table of Contents",
   "title_sidebar": "Contents",
   "toc_cell": false,
   "toc_position": {},
   "toc_section_display": true,
   "toc_window_display": false
  }
 },
 "nbformat": 4,
 "nbformat_minor": 2
}
